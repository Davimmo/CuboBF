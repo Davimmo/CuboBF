{
 "cells": [
  {
   "cell_type": "code",
   "execution_count": 5,
   "metadata": {},
   "outputs": [
    {
     "name": "stdout",
     "output_type": "stream",
     "text": [
      "[[ 0  1  0]\n",
      " [-1  0  0]\n",
      " [ 0  0  1]]\n"
     ]
    }
   ],
   "source": [
    "import numpy as np\n",
    "rotate_x=np.array([\n",
    "    [1, 0, 0],\n",
    "    [0, 0, -1],\n",
    "    [0, 1, 0]\n",
    "    ])\n",
    "\n",
    "rotate_y=np.array([\n",
    "    [ 0,  0, 1],\n",
    "    [ 0,  1,  0],\n",
    "    [ -1,  0,  0]\n",
    "])\n",
    "\n",
    "rotate_z=np.array([\n",
    "    [0, -1, 0],\n",
    "    [1, 0, 0],\n",
    "    [0, 0, 1]\n",
    "])\n",
    "\n",
    "print(np.transpose(rotate_z))"
   ]
  }
 ],
 "metadata": {
  "kernelspec": {
   "display_name": "Python 3",
   "language": "python",
   "name": "python3"
  },
  "language_info": {
   "codemirror_mode": {
    "name": "ipython",
    "version": 3
   },
   "file_extension": ".py",
   "mimetype": "text/x-python",
   "name": "python",
   "nbconvert_exporter": "python",
   "pygments_lexer": "ipython3",
   "version": "3.12.2"
  }
 },
 "nbformat": 4,
 "nbformat_minor": 2
}
